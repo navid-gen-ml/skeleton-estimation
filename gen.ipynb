{
 "cells": [
  {
   "cell_type": "code",
   "execution_count": 15,
   "metadata": {},
   "outputs": [
    {
     "name": "stdout",
     "output_type": "stream",
     "text": [
      "(106, 42, 3)\n"
     ]
    }
   ],
   "source": [
    "import numpy as np\n",
    "\n",
    "file_path = \"/media/shahidul/store1/SD17-V-A10/file_hand-land.npy\"\n",
    "\n",
    "data = np.load(file_path)\n",
    "print(data.shape)"
   ]
  },
  {
   "cell_type": "code",
   "execution_count": null,
   "metadata": {},
   "outputs": [],
   "source": [
    "import numpy as np\n",
    "import matplotlib.pyplot as plt\n",
    "\n",
    "# Load data\n",
    "file_path = \"/media/shahidul/store1/SD17-V-A10/npy/npy/001_deliberate_smile_2.mp4.npy\"\n",
    "data = np.load(file_path)\n",
    "\n",
    "# Reshape data to a 2D array\n",
    "data_2d = data.reshape(-1, 3)\n",
    "\n",
    "# Create scatter plot\n",
    "plt.scatter(data_2d[:, 0], data_2d[:, 1], c=data_2d[:, 2], cmap='jet')\n",
    "\n",
    "# Show plot\n",
    "plt.show()\n"
   ]
  },
  {
   "cell_type": "code",
   "execution_count": null,
   "metadata": {},
   "outputs": [],
   "source": [
    "import numpy as np\n",
    "import matplotlib.pyplot as plt\n",
    "\n",
    "# Load data\n",
    "file_path = \"/media/shahidul/store1/SD17-V-A10/npy/npy/001_deliberate_smile_2.mp4.npy\"\n",
    "data = np.load(file_path)\n",
    "print(data.shape)\n",
    "\n",
    "# Extract x and y coordinates\n",
    "x = data[:,:,0].flatten()\n",
    "y = data[:,:,1].flatten()\n",
    "\n",
    "# Create scatter plot\n",
    "plt.scatter(x, y, s=1)\n",
    "\n",
    "# Show plot\n",
    "plt.show()\n"
   ]
  },
  {
   "cell_type": "code",
   "execution_count": null,
   "metadata": {},
   "outputs": [],
   "source": [
    "import numpy as np\n",
    "import matplotlib.pyplot as plt\n",
    "\n",
    "# Load data\n",
    "file_path = \"/media/shahidul/store1/SD17-V-A10/npy/npy/001_deliberate_smile_2.mp4.npy\"\n",
    "data = np.load(file_path)\n",
    "data.shape\n",
    "# # Extract x and y coordinates\n",
    "# x = data[:,:,0].flatten()\n",
    "# y = data[:,:,1].flatten()\n",
    "\n",
    "# # Create scatter plot\n",
    "# plt.scatter(x, y, s=1)\n",
    "\n",
    "# # Show plot\n",
    "# plt.show()\n"
   ]
  },
  {
   "cell_type": "code",
   "execution_count": null,
   "metadata": {},
   "outputs": [],
   "source": []
  }
 ],
 "metadata": {
  "kernelspec": {
   "display_name": "tf",
   "language": "python",
   "name": "python3"
  },
  "language_info": {
   "codemirror_mode": {
    "name": "ipython",
    "version": 3
   },
   "file_extension": ".py",
   "mimetype": "text/x-python",
   "name": "python",
   "nbconvert_exporter": "python",
   "pygments_lexer": "ipython3",
   "version": "3.9.16"
  },
  "orig_nbformat": 4
 },
 "nbformat": 4,
 "nbformat_minor": 2
}
